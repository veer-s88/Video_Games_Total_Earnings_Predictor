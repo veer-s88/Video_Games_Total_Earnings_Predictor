{
 "cells": [
  {
   "cell_type": "markdown",
   "id": "cfe3f775",
   "metadata": {},
   "source": [
    "# Total Earnings Predictor"
   ]
  },
  {
   "cell_type": "markdown",
   "id": "0a20a23c",
   "metadata": {},
   "source": [
    "## Load and View Data"
   ]
  },
  {
   "cell_type": "code",
   "execution_count": 1,
   "id": "2da442de",
   "metadata": {},
   "outputs": [],
   "source": [
    "# import useful libraries for project\n",
    "import numpy as np\n",
    "import pandas as pd\n",
    "from sklearn.preprocessing import MinMaxScaler"
   ]
  },
  {
   "cell_type": "code",
   "execution_count": 2,
   "id": "dd02a916",
   "metadata": {},
   "outputs": [],
   "source": [
    "# Read in training and test data\n",
    "training_df = pd.read_csv('Exercise Files/03/sales_data_training.csv')\n",
    "test_df = pd.read_csv('Exercise Files/03/sales_data_test.csv')"
   ]
  },
  {
   "cell_type": "code",
   "execution_count": 3,
   "id": "aec75d6c",
   "metadata": {},
   "outputs": [
    {
     "data": {
      "text/html": [
       "<div>\n",
       "<style scoped>\n",
       "    .dataframe tbody tr th:only-of-type {\n",
       "        vertical-align: middle;\n",
       "    }\n",
       "\n",
       "    .dataframe tbody tr th {\n",
       "        vertical-align: top;\n",
       "    }\n",
       "\n",
       "    .dataframe thead th {\n",
       "        text-align: right;\n",
       "    }\n",
       "</style>\n",
       "<table border=\"1\" class=\"dataframe\">\n",
       "  <thead>\n",
       "    <tr style=\"text-align: right;\">\n",
       "      <th></th>\n",
       "      <th>critic_rating</th>\n",
       "      <th>is_action</th>\n",
       "      <th>is_exclusive_to_us</th>\n",
       "      <th>is_portable</th>\n",
       "      <th>is_role_playing</th>\n",
       "      <th>is_sequel</th>\n",
       "      <th>is_sports</th>\n",
       "      <th>suitable_for_kids</th>\n",
       "      <th>total_earnings</th>\n",
       "      <th>unit_price</th>\n",
       "    </tr>\n",
       "  </thead>\n",
       "  <tbody>\n",
       "    <tr>\n",
       "      <th>0</th>\n",
       "      <td>3.5</td>\n",
       "      <td>1</td>\n",
       "      <td>0</td>\n",
       "      <td>1</td>\n",
       "      <td>0</td>\n",
       "      <td>1</td>\n",
       "      <td>0</td>\n",
       "      <td>0</td>\n",
       "      <td>132717</td>\n",
       "      <td>59.99</td>\n",
       "    </tr>\n",
       "    <tr>\n",
       "      <th>1</th>\n",
       "      <td>4.5</td>\n",
       "      <td>0</td>\n",
       "      <td>0</td>\n",
       "      <td>0</td>\n",
       "      <td>0</td>\n",
       "      <td>1</td>\n",
       "      <td>1</td>\n",
       "      <td>0</td>\n",
       "      <td>83407</td>\n",
       "      <td>49.99</td>\n",
       "    </tr>\n",
       "    <tr>\n",
       "      <th>2</th>\n",
       "      <td>3.0</td>\n",
       "      <td>0</td>\n",
       "      <td>0</td>\n",
       "      <td>0</td>\n",
       "      <td>0</td>\n",
       "      <td>1</td>\n",
       "      <td>1</td>\n",
       "      <td>0</td>\n",
       "      <td>62423</td>\n",
       "      <td>49.99</td>\n",
       "    </tr>\n",
       "    <tr>\n",
       "      <th>3</th>\n",
       "      <td>4.5</td>\n",
       "      <td>1</td>\n",
       "      <td>0</td>\n",
       "      <td>0</td>\n",
       "      <td>0</td>\n",
       "      <td>0</td>\n",
       "      <td>0</td>\n",
       "      <td>1</td>\n",
       "      <td>69889</td>\n",
       "      <td>39.99</td>\n",
       "    </tr>\n",
       "    <tr>\n",
       "      <th>4</th>\n",
       "      <td>4.0</td>\n",
       "      <td>1</td>\n",
       "      <td>0</td>\n",
       "      <td>1</td>\n",
       "      <td>0</td>\n",
       "      <td>1</td>\n",
       "      <td>0</td>\n",
       "      <td>1</td>\n",
       "      <td>161382</td>\n",
       "      <td>59.99</td>\n",
       "    </tr>\n",
       "  </tbody>\n",
       "</table>\n",
       "</div>"
      ],
      "text/plain": [
       "   critic_rating  is_action  is_exclusive_to_us  is_portable  is_role_playing  \\\n",
       "0            3.5          1                   0            1                0   \n",
       "1            4.5          0                   0            0                0   \n",
       "2            3.0          0                   0            0                0   \n",
       "3            4.5          1                   0            0                0   \n",
       "4            4.0          1                   0            1                0   \n",
       "\n",
       "   is_sequel  is_sports  suitable_for_kids  total_earnings  unit_price  \n",
       "0          1          0                  0          132717       59.99  \n",
       "1          1          1                  0           83407       49.99  \n",
       "2          1          1                  0           62423       49.99  \n",
       "3          0          0                  1           69889       39.99  \n",
       "4          1          0                  1          161382       59.99  "
      ]
     },
     "execution_count": 3,
     "metadata": {},
     "output_type": "execute_result"
    }
   ],
   "source": [
    "# View head to check data was imported correctly\n",
    "training_df.head()"
   ]
  },
  {
   "cell_type": "markdown",
   "id": "879ecc35",
   "metadata": {},
   "source": [
    "## Preprocess the Data"
   ]
  },
  {
   "cell_type": "code",
   "execution_count": 4,
   "id": "52d91f43",
   "metadata": {},
   "outputs": [],
   "source": [
    "# Data needs to be scaled to small range for the neural network to work well, initialise scaler object\n",
    "scaler = MinMaxScaler(feature_range=(0,1))"
   ]
  },
  {
   "cell_type": "code",
   "execution_count": 5,
   "id": "ab4bdbb9",
   "metadata": {},
   "outputs": [],
   "source": [
    "# Fit the scaler on the training data, transform and transform on test data\n",
    "scaled_training_df = scaler.fit_transform(training_df)\n",
    "scaled_test_df = scaler.transform(test_df)"
   ]
  },
  {
   "cell_type": "code",
   "execution_count": 6,
   "id": "7b8302a8",
   "metadata": {},
   "outputs": [
    {
     "name": "stdout",
     "output_type": "stream",
     "text": [
      "The scaler multiplied by 0.0000036968 and added -0.1159128297 on the total earnings column\n"
     ]
    }
   ],
   "source": [
    "# Check scaler adjustment on the total_earnings column, will be useful to know later when making prediction\n",
    "print('The scaler multiplied by {:.10f} and added {:.10f} on the total earnings column'.format(scaler.scale_[8], scaler.min_[8]))"
   ]
  },
  {
   "cell_type": "code",
   "execution_count": 7,
   "id": "fefc7a85",
   "metadata": {},
   "outputs": [],
   "source": [
    "# Convert the scaled arrays into data frame\n",
    "scaled_training_df_actual = pd.DataFrame(scaled_training_df, columns=training_df.columns)\n",
    "scaled_test_df_actual = pd.DataFrame(scaled_test_df, columns=test_df.columns)"
   ]
  },
  {
   "cell_type": "code",
   "execution_count": 8,
   "id": "051e9336",
   "metadata": {},
   "outputs": [
    {
     "data": {
      "text/html": [
       "<div>\n",
       "<style scoped>\n",
       "    .dataframe tbody tr th:only-of-type {\n",
       "        vertical-align: middle;\n",
       "    }\n",
       "\n",
       "    .dataframe tbody tr th {\n",
       "        vertical-align: top;\n",
       "    }\n",
       "\n",
       "    .dataframe thead th {\n",
       "        text-align: right;\n",
       "    }\n",
       "</style>\n",
       "<table border=\"1\" class=\"dataframe\">\n",
       "  <thead>\n",
       "    <tr style=\"text-align: right;\">\n",
       "      <th></th>\n",
       "      <th>critic_rating</th>\n",
       "      <th>is_action</th>\n",
       "      <th>is_exclusive_to_us</th>\n",
       "      <th>is_portable</th>\n",
       "      <th>is_role_playing</th>\n",
       "      <th>is_sequel</th>\n",
       "      <th>is_sports</th>\n",
       "      <th>suitable_for_kids</th>\n",
       "      <th>total_earnings</th>\n",
       "      <th>unit_price</th>\n",
       "    </tr>\n",
       "  </thead>\n",
       "  <tbody>\n",
       "    <tr>\n",
       "      <th>0</th>\n",
       "      <td>0.500000</td>\n",
       "      <td>1.0</td>\n",
       "      <td>0.0</td>\n",
       "      <td>1.0</td>\n",
       "      <td>0.0</td>\n",
       "      <td>1.0</td>\n",
       "      <td>0.0</td>\n",
       "      <td>0.0</td>\n",
       "      <td>0.374714</td>\n",
       "      <td>1.0</td>\n",
       "    </tr>\n",
       "    <tr>\n",
       "      <th>1</th>\n",
       "      <td>0.833333</td>\n",
       "      <td>0.0</td>\n",
       "      <td>0.0</td>\n",
       "      <td>0.0</td>\n",
       "      <td>0.0</td>\n",
       "      <td>1.0</td>\n",
       "      <td>1.0</td>\n",
       "      <td>0.0</td>\n",
       "      <td>0.192425</td>\n",
       "      <td>0.5</td>\n",
       "    </tr>\n",
       "    <tr>\n",
       "      <th>2</th>\n",
       "      <td>0.333333</td>\n",
       "      <td>0.0</td>\n",
       "      <td>0.0</td>\n",
       "      <td>0.0</td>\n",
       "      <td>0.0</td>\n",
       "      <td>1.0</td>\n",
       "      <td>1.0</td>\n",
       "      <td>0.0</td>\n",
       "      <td>0.114852</td>\n",
       "      <td>0.5</td>\n",
       "    </tr>\n",
       "    <tr>\n",
       "      <th>3</th>\n",
       "      <td>0.833333</td>\n",
       "      <td>1.0</td>\n",
       "      <td>0.0</td>\n",
       "      <td>0.0</td>\n",
       "      <td>0.0</td>\n",
       "      <td>0.0</td>\n",
       "      <td>0.0</td>\n",
       "      <td>1.0</td>\n",
       "      <td>0.142452</td>\n",
       "      <td>0.0</td>\n",
       "    </tr>\n",
       "    <tr>\n",
       "      <th>4</th>\n",
       "      <td>0.666667</td>\n",
       "      <td>1.0</td>\n",
       "      <td>0.0</td>\n",
       "      <td>1.0</td>\n",
       "      <td>0.0</td>\n",
       "      <td>1.0</td>\n",
       "      <td>0.0</td>\n",
       "      <td>1.0</td>\n",
       "      <td>0.480682</td>\n",
       "      <td>1.0</td>\n",
       "    </tr>\n",
       "  </tbody>\n",
       "</table>\n",
       "</div>"
      ],
      "text/plain": [
       "   critic_rating  is_action  is_exclusive_to_us  is_portable  is_role_playing  \\\n",
       "0       0.500000        1.0                 0.0          1.0              0.0   \n",
       "1       0.833333        0.0                 0.0          0.0              0.0   \n",
       "2       0.333333        0.0                 0.0          0.0              0.0   \n",
       "3       0.833333        1.0                 0.0          0.0              0.0   \n",
       "4       0.666667        1.0                 0.0          1.0              0.0   \n",
       "\n",
       "   is_sequel  is_sports  suitable_for_kids  total_earnings  unit_price  \n",
       "0        1.0        0.0                0.0        0.374714         1.0  \n",
       "1        1.0        1.0                0.0        0.192425         0.5  \n",
       "2        1.0        1.0                0.0        0.114852         0.5  \n",
       "3        0.0        0.0                1.0        0.142452         0.0  \n",
       "4        1.0        0.0                1.0        0.480682         1.0  "
      ]
     },
     "execution_count": 8,
     "metadata": {},
     "output_type": "execute_result"
    }
   ],
   "source": [
    "# Check the scaled version of the dataframe\n",
    "scaled_training_df_actual.head()"
   ]
  },
  {
   "cell_type": "markdown",
   "id": "42f941f0",
   "metadata": {},
   "source": [
    "We can save the dataframe objects as csv files to use them later by using df.to_csv function"
   ]
  },
  {
   "cell_type": "markdown",
   "id": "0dfb7d92",
   "metadata": {},
   "source": [
    "## Create and Train Model"
   ]
  },
  {
   "cell_type": "code",
   "execution_count": 9,
   "id": "05fb12c0",
   "metadata": {},
   "outputs": [],
   "source": [
    "# Import the Sequential model and the layers we will be using for this model\n",
    "from keras.models import Sequential\n",
    "from keras.layers import Dense"
   ]
  },
  {
   "cell_type": "code",
   "execution_count": 10,
   "id": "926b2bca",
   "metadata": {},
   "outputs": [],
   "source": [
    "# Split training data into features and labels\n",
    "X = scaled_training_df_actual.drop('total_earnings', axis=1).values\n",
    "y = scaled_training_df_actual['total_earnings'].values"
   ]
  },
  {
   "cell_type": "code",
   "execution_count": 11,
   "id": "be77d8bc",
   "metadata": {},
   "outputs": [
    {
     "name": "stdout",
     "output_type": "stream",
     "text": [
      "Model: \"sequential\"\n",
      "_________________________________________________________________\n",
      "Layer (type)                 Output Shape              Param #   \n",
      "=================================================================\n",
      "dense (Dense)                (None, 50)                500       \n",
      "_________________________________________________________________\n",
      "dense_1 (Dense)              (None, 100)               5100      \n",
      "_________________________________________________________________\n",
      "dense_2 (Dense)              (None, 50)                5050      \n",
      "_________________________________________________________________\n",
      "dense_3 (Dense)              (None, 1)                 51        \n",
      "=================================================================\n",
      "Total params: 10,701\n",
      "Trainable params: 10,701\n",
      "Non-trainable params: 0\n",
      "_________________________________________________________________\n"
     ]
    }
   ],
   "source": [
    "# Define the neural network model\n",
    "model_nn = Sequential()\n",
    "model_nn.add(Dense(50, activation='relu', input_dim=9))\n",
    "model_nn.add(Dense(100, activation='relu'))\n",
    "model_nn.add(Dense(50, activation='relu'))\n",
    "model_nn.add(Dense(1, activation='linear'))\n",
    "\n",
    "model_nn.summary()"
   ]
  },
  {
   "cell_type": "markdown",
   "id": "29fd9f13",
   "metadata": {},
   "source": [
    "The last layer only contains one node as we want the prediction to be an output of this final node in the final layer. The final layer uses a linear activation function as we are predicting a continuous quantitative value rather than a categorical or binary value"
   ]
  },
  {
   "cell_type": "code",
   "execution_count": 12,
   "id": "11365588",
   "metadata": {},
   "outputs": [],
   "source": [
    "# Compile the model\n",
    "model_nn.compile(optimizer='adam', loss='mse')"
   ]
  },
  {
   "cell_type": "code",
   "execution_count": 13,
   "id": "08d6b3b6",
   "metadata": {},
   "outputs": [
    {
     "name": "stdout",
     "output_type": "stream",
     "text": [
      "Epoch 1/50\n",
      "32/32 - 0s - loss: 0.0057\n",
      "Epoch 2/50\n",
      "32/32 - 0s - loss: 0.0011\n",
      "Epoch 3/50\n",
      "32/32 - 0s - loss: 5.8682e-04\n",
      "Epoch 4/50\n",
      "32/32 - 0s - loss: 3.3481e-04\n",
      "Epoch 5/50\n",
      "32/32 - 0s - loss: 1.8351e-04\n",
      "Epoch 6/50\n",
      "32/32 - 0s - loss: 1.3217e-04\n",
      "Epoch 7/50\n",
      "32/32 - 0s - loss: 1.1358e-04\n",
      "Epoch 8/50\n",
      "32/32 - 0s - loss: 8.4668e-05\n",
      "Epoch 9/50\n",
      "32/32 - 0s - loss: 7.1360e-05\n",
      "Epoch 10/50\n",
      "32/32 - 0s - loss: 5.0549e-05\n",
      "Epoch 11/50\n",
      "32/32 - 0s - loss: 4.6824e-05\n",
      "Epoch 12/50\n",
      "32/32 - 0s - loss: 4.9062e-05\n",
      "Epoch 13/50\n",
      "32/32 - 0s - loss: 5.0569e-05\n",
      "Epoch 14/50\n",
      "32/32 - 0s - loss: 4.4293e-05\n",
      "Epoch 15/50\n",
      "32/32 - 0s - loss: 3.4979e-05\n",
      "Epoch 16/50\n",
      "32/32 - 0s - loss: 5.2678e-05\n",
      "Epoch 17/50\n",
      "32/32 - 0s - loss: 3.2928e-05\n",
      "Epoch 18/50\n",
      "32/32 - 0s - loss: 4.3437e-05\n",
      "Epoch 19/50\n",
      "32/32 - 0s - loss: 4.4419e-05\n",
      "Epoch 20/50\n",
      "32/32 - 0s - loss: 5.8349e-05\n",
      "Epoch 21/50\n",
      "32/32 - 0s - loss: 6.0341e-05\n",
      "Epoch 22/50\n",
      "32/32 - 0s - loss: 4.1617e-05\n",
      "Epoch 23/50\n",
      "32/32 - 0s - loss: 3.0113e-05\n",
      "Epoch 24/50\n",
      "32/32 - 0s - loss: 2.9104e-05\n",
      "Epoch 25/50\n",
      "32/32 - 0s - loss: 5.1681e-05\n",
      "Epoch 26/50\n",
      "32/32 - 0s - loss: 4.4439e-05\n",
      "Epoch 27/50\n",
      "32/32 - 0s - loss: 2.4118e-05\n",
      "Epoch 28/50\n",
      "32/32 - 0s - loss: 3.6071e-05\n",
      "Epoch 29/50\n",
      "32/32 - 0s - loss: 3.5310e-05\n",
      "Epoch 30/50\n",
      "32/32 - 0s - loss: 5.0235e-05\n",
      "Epoch 31/50\n",
      "32/32 - 0s - loss: 4.0031e-05\n",
      "Epoch 32/50\n",
      "32/32 - 0s - loss: 3.8839e-05\n",
      "Epoch 33/50\n",
      "32/32 - 0s - loss: 3.9011e-05\n",
      "Epoch 34/50\n",
      "32/32 - 0s - loss: 2.6988e-05\n",
      "Epoch 35/50\n",
      "32/32 - 0s - loss: 2.0907e-05\n",
      "Epoch 36/50\n",
      "32/32 - 0s - loss: 5.8599e-05\n",
      "Epoch 37/50\n",
      "32/32 - 0s - loss: 7.7008e-05\n",
      "Epoch 38/50\n",
      "32/32 - 0s - loss: 5.0674e-05\n",
      "Epoch 39/50\n",
      "32/32 - 0s - loss: 3.4912e-05\n",
      "Epoch 40/50\n",
      "32/32 - 0s - loss: 4.0647e-05\n",
      "Epoch 41/50\n",
      "32/32 - 0s - loss: 4.0975e-05\n",
      "Epoch 42/50\n",
      "32/32 - 0s - loss: 2.2713e-05\n",
      "Epoch 43/50\n",
      "32/32 - 0s - loss: 5.4798e-05\n",
      "Epoch 44/50\n",
      "32/32 - 0s - loss: 4.1982e-05\n",
      "Epoch 45/50\n",
      "32/32 - 0s - loss: 4.2612e-05\n",
      "Epoch 46/50\n",
      "32/32 - 0s - loss: 3.6343e-05\n",
      "Epoch 47/50\n",
      "32/32 - 0s - loss: 3.8253e-05\n",
      "Epoch 48/50\n",
      "32/32 - 0s - loss: 2.6153e-05\n",
      "Epoch 49/50\n",
      "32/32 - 0s - loss: 3.2787e-05\n",
      "Epoch 50/50\n",
      "32/32 - 0s - loss: 5.2287e-05\n"
     ]
    },
    {
     "data": {
      "text/plain": [
       "<keras.callbacks.History at 0x202255d1eb0>"
      ]
     },
     "execution_count": 13,
     "metadata": {},
     "output_type": "execute_result"
    }
   ],
   "source": [
    "# Fit model on our training data\n",
    "model_nn.fit(X, y, epochs=50, verbose=2, shuffle=True)"
   ]
  },
  {
   "cell_type": "code",
   "execution_count": 14,
   "id": "3c6181f7",
   "metadata": {},
   "outputs": [],
   "source": [
    "# Split test data into features and labels\n",
    "X_test = scaled_test_df_actual.drop('total_earnings', axis=1).values\n",
    "y_test = scaled_test_df_actual['total_earnings'].values"
   ]
  },
  {
   "cell_type": "code",
   "execution_count": 15,
   "id": "6a89acbd",
   "metadata": {},
   "outputs": [
    {
     "name": "stdout",
     "output_type": "stream",
     "text": [
      "The mean squared error (MSE) for the test data set is   0.000089\n"
     ]
    }
   ],
   "source": [
    "# check the error rate of our model on the test dataset\n",
    "test_error_rate = model_nn.evaluate(X_test, y_test, verbose=0)\n",
    "print('The mean squared error (MSE) for the test data set is {:10f}'.format(test_error_rate))"
   ]
  },
  {
   "cell_type": "code",
   "execution_count": 21,
   "id": "d051ecd7",
   "metadata": {},
   "outputs": [],
   "source": [
    "# Make predictions using the model, load data in \n",
    "predict_df = pd.read_csv('Exercise Files/04/proposed_new_product.csv')"
   ]
  },
  {
   "cell_type": "code",
   "execution_count": 22,
   "id": "405c5be3",
   "metadata": {},
   "outputs": [
    {
     "data": {
      "text/plain": [
       "0.87243444"
      ]
     },
     "execution_count": 22,
     "metadata": {},
     "output_type": "execute_result"
    }
   ],
   "source": [
    "# Use model to make prediction\n",
    "prediction = model_nn.predict(predict_df.values)[0][0]\n",
    "prediction"
   ]
  },
  {
   "cell_type": "code",
   "execution_count": 23,
   "id": "294caa72",
   "metadata": {},
   "outputs": [
    {
     "name": "stdout",
     "output_type": "stream",
     "text": [
      "Earning prediction for proposed product 267352.8774550557\n"
     ]
    }
   ],
   "source": [
    "# We can rescale this data using the initial rescaling metrics\n",
    "prediction = prediction - scaler.min_[8]\n",
    "prediction = prediction / scaler.scale_[8]\n",
    "print('Earning prediction for proposed product {}'.format(prediction))"
   ]
  },
  {
   "cell_type": "markdown",
   "id": "5df89870",
   "metadata": {},
   "source": [
    "The mse of the model appears to be extremely low, therefore, when we make a prediction, the prediction should be fairly accurate. Note that above we have rescaled the final prediction to give the final prediction value. We have done this because we initially had to scale the data using the MinMaxScaler"
   ]
  },
  {
   "cell_type": "code",
   "execution_count": 24,
   "id": "5a7b0aed",
   "metadata": {},
   "outputs": [],
   "source": [
    "# Save model\n",
    "model_nn.save('trained_earning_predictor_model.h5')"
   ]
  },
  {
   "cell_type": "code",
   "execution_count": null,
   "id": "3100062a",
   "metadata": {},
   "outputs": [],
   "source": []
  }
 ],
 "metadata": {
  "kernelspec": {
   "display_name": "Python 3 (ipykernel)",
   "language": "python",
   "name": "python3"
  },
  "language_info": {
   "codemirror_mode": {
    "name": "ipython",
    "version": 3
   },
   "file_extension": ".py",
   "mimetype": "text/x-python",
   "name": "python",
   "nbconvert_exporter": "python",
   "pygments_lexer": "ipython3",
   "version": "3.8.8"
  }
 },
 "nbformat": 4,
 "nbformat_minor": 5
}
